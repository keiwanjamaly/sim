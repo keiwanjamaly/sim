{
 "cells": [
  {
   "cell_type": "code",
   "execution_count": 3,
   "metadata": {},
   "outputs": [
    {
     "data": {
      "text/plain": [
       "<module 'c_Return_Data' from '/home/jamaly/projects/sim/c_Return_Data.py'>"
      ]
     },
     "execution_count": 3,
     "metadata": {},
     "output_type": "execute_result"
    }
   ],
   "source": [
    "import numpy as np\n",
    "from ctypes import CDLL\n",
    "\n",
    "from c_Grid import Grid, Grid_Interface\n",
    "import c_Return_Data\n",
    "from c_Computation_Data import Computation_Data, Computation_Data_Interface\n",
    "from c_Computation import Computation_Interface\n",
    "from c_Gross_Neveu import Gross_Neveu_Interface\n",
    "\n",
    "import importlib\n",
    "importlib.reload(c_Return_Data)"
   ]
  },
  {
   "cell_type": "code",
   "execution_count": 4,
   "metadata": {},
   "outputs": [
    {
     "name": "stdout",
     "output_type": "stream",
     "text": [
      "freeing grid\n",
      "freeing return_data\n",
      "freeing gross_neveu\n",
      "freeing computation_data\n"
     ]
    },
    {
     "ename": "ArgumentError",
     "evalue": "argument 2: TypeError: expected LP_Return_Data instance instead of LP_Return_Data",
     "output_type": "error",
     "traceback": [
      "\u001b[0;31m---------------------------------------------------------------------------\u001b[0m",
      "\u001b[0;31mArgumentError\u001b[0m                             Traceback (most recent call last)",
      "Cell \u001b[0;32mIn[4], line 30\u001b[0m\n\u001b[1;32m     24\u001b[0m physics_data \u001b[39m=\u001b[39m Gross_Neveu_Interface(\n\u001b[1;32m     25\u001b[0m     lib, Lambda, h, sigma_0, d, d_gamma, mu, T, N_Flavor)\n\u001b[1;32m     27\u001b[0m computation_data \u001b[39m=\u001b[39m Computation_Data_Interface(\n\u001b[1;32m     28\u001b[0m     lib, Lambda, kir, grid\u001b[39m.\u001b[39mpointer, physics_data\u001b[39m.\u001b[39mpointer, tolerances)\n\u001b[0;32m---> 30\u001b[0m Computation_Interface(lib, computation_data\u001b[39m.\u001b[39;49mpointer, return_data\u001b[39m.\u001b[39;49mpointer)\n\u001b[1;32m     32\u001b[0m N \u001b[39m=\u001b[39m return_data\u001b[39m.\u001b[39mgrid_size\n\u001b[1;32m     33\u001b[0m samples \u001b[39m=\u001b[39m return_data\u001b[39m.\u001b[39msamples\n",
      "File \u001b[0;32m~/projects/sim/c_Computation.py:17\u001b[0m, in \u001b[0;36mComputation_Interface.__init__\u001b[0;34m(self, lib, computation_data, return_data)\u001b[0m\n\u001b[1;32m     13\u001b[0m \u001b[39mself\u001b[39m\u001b[39m.\u001b[39mcompute\u001b[39m.\u001b[39margtypes \u001b[39m=\u001b[39m [\n\u001b[1;32m     14\u001b[0m     POINTER(Computation_Data), POINTER(Return_Data)]\n\u001b[1;32m     15\u001b[0m \u001b[39mself\u001b[39m\u001b[39m.\u001b[39mcompute\u001b[39m.\u001b[39mrestype \u001b[39m=\u001b[39m \u001b[39mNone\u001b[39;00m\n\u001b[0;32m---> 17\u001b[0m \u001b[39mself\u001b[39;49m\u001b[39m.\u001b[39;49mcompute(computation_data, return_data)\n",
      "\u001b[0;31mArgumentError\u001b[0m: argument 2: TypeError: expected LP_Return_Data instance instead of LP_Return_Data"
     ]
    }
   ],
   "source": [
    "\n",
    "lib = CDLL(\"./build/libsim.so\")\n",
    "\n",
    "sigma_max = 10\n",
    "N_Grid = 11\n",
    "samples = 10\n",
    "Lambda = 1000\n",
    "kir = 1e-4\n",
    "tolerances = 1e-10\n",
    "h = 1\n",
    "sigma_0 = 1\n",
    "d = 1\n",
    "d_gamma = 2\n",
    "mu = 0.1\n",
    "T = 0.1\n",
    "N_Flavor = np.infty\n",
    "# N_Flavor = 2\n",
    "\n",
    "grid_points = np.linspace(0, sigma_max, N_Grid)\n",
    "\n",
    "grid = Grid_Interface(lib, grid_points)\n",
    "\n",
    "return_data = c_Return_Data.Return_Data_Interface(lib, samples, grid.pointer)\n",
    "\n",
    "physics_data = Gross_Neveu_Interface(\n",
    "    lib, Lambda, h, sigma_0, d, d_gamma, mu, T, N_Flavor)\n",
    "\n",
    "computation_data = Computation_Data_Interface(\n",
    "    lib, Lambda, kir, grid.pointer, physics_data.pointer, tolerances)\n",
    "\n",
    "Computation_Interface(lib, computation_data.pointer, return_data.pointer)\n",
    "\n",
    "N = return_data.grid_size\n",
    "samples = return_data.samples\n",
    "print(return_data.samples)\n",
    "for i in range(N):\n",
    "    print(return_data.grid[i])"
   ]
  }
 ],
 "metadata": {
  "kernelspec": {
   "display_name": "flow-master",
   "language": "python",
   "name": "python3"
  },
  "language_info": {
   "codemirror_mode": {
    "name": "ipython",
    "version": 3
   },
   "file_extension": ".py",
   "mimetype": "text/x-python",
   "name": "python",
   "nbconvert_exporter": "python",
   "pygments_lexer": "ipython3",
   "version": "3.10.9"
  },
  "orig_nbformat": 4
 },
 "nbformat": 4,
 "nbformat_minor": 2
}
